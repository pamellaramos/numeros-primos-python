{
 "cells": [
  {
   "cell_type": "code",
   "execution_count": 100,
   "id": "deff03cb",
   "metadata": {},
   "outputs": [
    {
     "name": "stdout",
     "output_type": "stream",
     "text": [
      "Digite o primeiro número: 113\n",
      "Digite o segundo número: 11\n",
      "Os número 113 e 11 são primos \n"
     ]
    }
   ],
   "source": [
    "n_1 = int(input('Digite o primeiro número: '))\n",
    "n_2 = int(input('Digite o segundo número: '))\n",
    "   \n",
    "if is_prime(n_1) == False and is_prime(n_2) == False:\n",
    "    print(f'Os número {n_1} e {n_2} são primos ')\n",
    "elif is_prime(n_1) == True and is_prime(n_2) == False:\n",
    "    print(f'O número {n_2} é primo')\n",
    "elif is_prime(n_1) == False and is_prime(n_2) == True:\n",
    "    print(f' O número {n_1} é primo')\n",
    "else:\n",
    "    print('Nenhum dos números  primo ')\n",
    "    \n",
    "        "
   ]
  },
  {
   "cell_type": "code",
   "execution_count": 125,
   "id": "8b995cc0",
   "metadata": {},
   "outputs": [
    {
     "name": "stdout",
     "output_type": "stream",
     "text": [
      "Digite o primeiro número: 3\n",
      "Digite o segundo número: 11\n",
      "Os números primos no intervalo especificado são: \n",
      "[3, 5, 7, 11]\n"
     ]
    }
   ],
   "source": [
    "def is_prime(n):\n",
    "    if n <= 1:\n",
    "        return False\n",
    "    for i in range(2, n):\n",
    "        if n % i == 0:\n",
    "            return False\n",
    "    return True\n",
    "\n",
    "def primes_in_range():\n",
    "    n1 = int(input(\"Digite o primeiro número: \"))\n",
    "    n2 = int(input(\"Digite o segundo número: \"))\n",
    "    primes = []\n",
    "    for n in range(n1, n2+1):\n",
    "        if is_prime(n):\n",
    "            primes.append(n)\n",
    "    return primes\n",
    "\n",
    "primes = primes_in_range()\n",
    "if primes:\n",
    "    print(\"Os números primos no intervalo especificado são: \")\n",
    "    print(primes)\n",
    "else:\n",
    "    print(\"Não há números primos no intervalo especificado.\")\n"
   ]
  },
  {
   "cell_type": "code",
   "execution_count": null,
   "id": "2696e61a",
   "metadata": {},
   "outputs": [],
   "source": []
  }
 ],
 "metadata": {
  "kernelspec": {
   "display_name": "Python 3 (ipykernel)",
   "language": "python",
   "name": "python3"
  },
  "language_info": {
   "codemirror_mode": {
    "name": "ipython",
    "version": 3
   },
   "file_extension": ".py",
   "mimetype": "text/x-python",
   "name": "python",
   "nbconvert_exporter": "python",
   "pygments_lexer": "ipython3",
   "version": "3.9.12"
  }
 },
 "nbformat": 4,
 "nbformat_minor": 5
}
